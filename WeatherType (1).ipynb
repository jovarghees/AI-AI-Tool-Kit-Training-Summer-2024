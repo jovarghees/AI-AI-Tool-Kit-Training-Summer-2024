{
 "cells": [
  {
   "cell_type": "code",
   "execution_count": 75,
   "metadata": {
    "colab": {
     "base_uri": "https://localhost:8080/",
     "height": 423
    },
    "id": "QeE7v7Y6P3o4",
    "outputId": "f259f731-24cd-48ba-a7ba-9e2f009fe596"
   },
   "outputs": [
    {
     "data": {
      "text/html": [
       "<div>\n",
       "<style scoped>\n",
       "    .dataframe tbody tr th:only-of-type {\n",
       "        vertical-align: middle;\n",
       "    }\n",
       "\n",
       "    .dataframe tbody tr th {\n",
       "        vertical-align: top;\n",
       "    }\n",
       "\n",
       "    .dataframe thead th {\n",
       "        text-align: right;\n",
       "    }\n",
       "</style>\n",
       "<table border=\"1\" class=\"dataframe\">\n",
       "  <thead>\n",
       "    <tr style=\"text-align: right;\">\n",
       "      <th></th>\n",
       "      <th>Temperature</th>\n",
       "      <th>Humidity</th>\n",
       "      <th>Wind Speed</th>\n",
       "      <th>Precipitation (%)</th>\n",
       "      <th>Cloud Cover</th>\n",
       "      <th>Atmospheric Pressure</th>\n",
       "      <th>UV Index</th>\n",
       "      <th>Season</th>\n",
       "      <th>Visibility (km)</th>\n",
       "      <th>Location</th>\n",
       "      <th>Weather Type</th>\n",
       "    </tr>\n",
       "  </thead>\n",
       "  <tbody>\n",
       "    <tr>\n",
       "      <th>0</th>\n",
       "      <td>14.0</td>\n",
       "      <td>73</td>\n",
       "      <td>9.5</td>\n",
       "      <td>82.0</td>\n",
       "      <td>partly cloudy</td>\n",
       "      <td>1010.82</td>\n",
       "      <td>2</td>\n",
       "      <td>Winter</td>\n",
       "      <td>3.5</td>\n",
       "      <td>inland</td>\n",
       "      <td>Rainy</td>\n",
       "    </tr>\n",
       "    <tr>\n",
       "      <th>1</th>\n",
       "      <td>39.0</td>\n",
       "      <td>96</td>\n",
       "      <td>8.5</td>\n",
       "      <td>71.0</td>\n",
       "      <td>partly cloudy</td>\n",
       "      <td>1011.43</td>\n",
       "      <td>7</td>\n",
       "      <td>Spring</td>\n",
       "      <td>10.0</td>\n",
       "      <td>inland</td>\n",
       "      <td>Cloudy</td>\n",
       "    </tr>\n",
       "    <tr>\n",
       "      <th>2</th>\n",
       "      <td>30.0</td>\n",
       "      <td>64</td>\n",
       "      <td>7.0</td>\n",
       "      <td>16.0</td>\n",
       "      <td>clear</td>\n",
       "      <td>1018.72</td>\n",
       "      <td>5</td>\n",
       "      <td>Spring</td>\n",
       "      <td>5.5</td>\n",
       "      <td>mountain</td>\n",
       "      <td>Sunny</td>\n",
       "    </tr>\n",
       "    <tr>\n",
       "      <th>3</th>\n",
       "      <td>38.0</td>\n",
       "      <td>83</td>\n",
       "      <td>1.5</td>\n",
       "      <td>82.0</td>\n",
       "      <td>clear</td>\n",
       "      <td>1026.25</td>\n",
       "      <td>7</td>\n",
       "      <td>Spring</td>\n",
       "      <td>1.0</td>\n",
       "      <td>coastal</td>\n",
       "      <td>Sunny</td>\n",
       "    </tr>\n",
       "    <tr>\n",
       "      <th>4</th>\n",
       "      <td>27.0</td>\n",
       "      <td>74</td>\n",
       "      <td>17.0</td>\n",
       "      <td>66.0</td>\n",
       "      <td>overcast</td>\n",
       "      <td>990.67</td>\n",
       "      <td>1</td>\n",
       "      <td>Winter</td>\n",
       "      <td>2.5</td>\n",
       "      <td>mountain</td>\n",
       "      <td>Rainy</td>\n",
       "    </tr>\n",
       "    <tr>\n",
       "      <th>...</th>\n",
       "      <td>...</td>\n",
       "      <td>...</td>\n",
       "      <td>...</td>\n",
       "      <td>...</td>\n",
       "      <td>...</td>\n",
       "      <td>...</td>\n",
       "      <td>...</td>\n",
       "      <td>...</td>\n",
       "      <td>...</td>\n",
       "      <td>...</td>\n",
       "      <td>...</td>\n",
       "    </tr>\n",
       "    <tr>\n",
       "      <th>13195</th>\n",
       "      <td>10.0</td>\n",
       "      <td>74</td>\n",
       "      <td>14.5</td>\n",
       "      <td>71.0</td>\n",
       "      <td>overcast</td>\n",
       "      <td>1003.15</td>\n",
       "      <td>1</td>\n",
       "      <td>Summer</td>\n",
       "      <td>1.0</td>\n",
       "      <td>mountain</td>\n",
       "      <td>Rainy</td>\n",
       "    </tr>\n",
       "    <tr>\n",
       "      <th>13196</th>\n",
       "      <td>-1.0</td>\n",
       "      <td>76</td>\n",
       "      <td>3.5</td>\n",
       "      <td>23.0</td>\n",
       "      <td>cloudy</td>\n",
       "      <td>1067.23</td>\n",
       "      <td>1</td>\n",
       "      <td>Winter</td>\n",
       "      <td>6.0</td>\n",
       "      <td>coastal</td>\n",
       "      <td>Snowy</td>\n",
       "    </tr>\n",
       "    <tr>\n",
       "      <th>13197</th>\n",
       "      <td>30.0</td>\n",
       "      <td>77</td>\n",
       "      <td>5.5</td>\n",
       "      <td>28.0</td>\n",
       "      <td>overcast</td>\n",
       "      <td>1012.69</td>\n",
       "      <td>3</td>\n",
       "      <td>Autumn</td>\n",
       "      <td>9.0</td>\n",
       "      <td>coastal</td>\n",
       "      <td>Cloudy</td>\n",
       "    </tr>\n",
       "    <tr>\n",
       "      <th>13198</th>\n",
       "      <td>3.0</td>\n",
       "      <td>76</td>\n",
       "      <td>10.0</td>\n",
       "      <td>94.0</td>\n",
       "      <td>overcast</td>\n",
       "      <td>984.27</td>\n",
       "      <td>0</td>\n",
       "      <td>Winter</td>\n",
       "      <td>2.0</td>\n",
       "      <td>inland</td>\n",
       "      <td>Snowy</td>\n",
       "    </tr>\n",
       "    <tr>\n",
       "      <th>13199</th>\n",
       "      <td>-5.0</td>\n",
       "      <td>38</td>\n",
       "      <td>0.0</td>\n",
       "      <td>92.0</td>\n",
       "      <td>overcast</td>\n",
       "      <td>1015.37</td>\n",
       "      <td>5</td>\n",
       "      <td>Autumn</td>\n",
       "      <td>10.0</td>\n",
       "      <td>mountain</td>\n",
       "      <td>Rainy</td>\n",
       "    </tr>\n",
       "  </tbody>\n",
       "</table>\n",
       "<p>13200 rows × 11 columns</p>\n",
       "</div>"
      ],
      "text/plain": [
       "       Temperature  Humidity  Wind Speed  Precipitation (%)    Cloud Cover  \\\n",
       "0             14.0        73         9.5               82.0  partly cloudy   \n",
       "1             39.0        96         8.5               71.0  partly cloudy   \n",
       "2             30.0        64         7.0               16.0          clear   \n",
       "3             38.0        83         1.5               82.0          clear   \n",
       "4             27.0        74        17.0               66.0       overcast   \n",
       "...            ...       ...         ...                ...            ...   \n",
       "13195         10.0        74        14.5               71.0       overcast   \n",
       "13196         -1.0        76         3.5               23.0         cloudy   \n",
       "13197         30.0        77         5.5               28.0       overcast   \n",
       "13198          3.0        76        10.0               94.0       overcast   \n",
       "13199         -5.0        38         0.0               92.0       overcast   \n",
       "\n",
       "       Atmospheric Pressure  UV Index  Season  Visibility (km)  Location  \\\n",
       "0                   1010.82         2  Winter              3.5    inland   \n",
       "1                   1011.43         7  Spring             10.0    inland   \n",
       "2                   1018.72         5  Spring              5.5  mountain   \n",
       "3                   1026.25         7  Spring              1.0   coastal   \n",
       "4                    990.67         1  Winter              2.5  mountain   \n",
       "...                     ...       ...     ...              ...       ...   \n",
       "13195               1003.15         1  Summer              1.0  mountain   \n",
       "13196               1067.23         1  Winter              6.0   coastal   \n",
       "13197               1012.69         3  Autumn              9.0   coastal   \n",
       "13198                984.27         0  Winter              2.0    inland   \n",
       "13199               1015.37         5  Autumn             10.0  mountain   \n",
       "\n",
       "      Weather Type  \n",
       "0            Rainy  \n",
       "1           Cloudy  \n",
       "2            Sunny  \n",
       "3            Sunny  \n",
       "4            Rainy  \n",
       "...            ...  \n",
       "13195        Rainy  \n",
       "13196        Snowy  \n",
       "13197       Cloudy  \n",
       "13198        Snowy  \n",
       "13199        Rainy  \n",
       "\n",
       "[13200 rows x 11 columns]"
      ]
     },
     "execution_count": 75,
     "metadata": {},
     "output_type": "execute_result"
    }
   ],
   "source": [
    "import pandas as pd\n",
    "data=pd.read_csv('weather_classification_data.csv')\n",
    "data"
   ]
  },
  {
   "cell_type": "code",
   "execution_count": 76,
   "metadata": {
    "colab": {
     "base_uri": "https://localhost:8080/",
     "height": 394
    },
    "id": "8KFpSXSMQbIm",
    "outputId": "1f63f4c6-cff8-47ee-ea31-3c0547d622dd"
   },
   "outputs": [
    {
     "data": {
      "text/html": [
       "<div>\n",
       "<style scoped>\n",
       "    .dataframe tbody tr th:only-of-type {\n",
       "        vertical-align: middle;\n",
       "    }\n",
       "\n",
       "    .dataframe tbody tr th {\n",
       "        vertical-align: top;\n",
       "    }\n",
       "\n",
       "    .dataframe thead th {\n",
       "        text-align: right;\n",
       "    }\n",
       "</style>\n",
       "<table border=\"1\" class=\"dataframe\">\n",
       "  <thead>\n",
       "    <tr style=\"text-align: right;\">\n",
       "      <th></th>\n",
       "      <th>0</th>\n",
       "    </tr>\n",
       "  </thead>\n",
       "  <tbody>\n",
       "    <tr>\n",
       "      <th>Temperature</th>\n",
       "      <td>14.0</td>\n",
       "    </tr>\n",
       "    <tr>\n",
       "      <th>Humidity</th>\n",
       "      <td>73</td>\n",
       "    </tr>\n",
       "    <tr>\n",
       "      <th>Wind Speed</th>\n",
       "      <td>9.5</td>\n",
       "    </tr>\n",
       "    <tr>\n",
       "      <th>Precipitation (%)</th>\n",
       "      <td>82.0</td>\n",
       "    </tr>\n",
       "    <tr>\n",
       "      <th>Cloud Cover</th>\n",
       "      <td>partly cloudy</td>\n",
       "    </tr>\n",
       "    <tr>\n",
       "      <th>Atmospheric Pressure</th>\n",
       "      <td>1010.82</td>\n",
       "    </tr>\n",
       "    <tr>\n",
       "      <th>UV Index</th>\n",
       "      <td>2</td>\n",
       "    </tr>\n",
       "    <tr>\n",
       "      <th>Season</th>\n",
       "      <td>Winter</td>\n",
       "    </tr>\n",
       "    <tr>\n",
       "      <th>Visibility (km)</th>\n",
       "      <td>3.5</td>\n",
       "    </tr>\n",
       "    <tr>\n",
       "      <th>Location</th>\n",
       "      <td>inland</td>\n",
       "    </tr>\n",
       "    <tr>\n",
       "      <th>Weather Type</th>\n",
       "      <td>Rainy</td>\n",
       "    </tr>\n",
       "  </tbody>\n",
       "</table>\n",
       "</div>"
      ],
      "text/plain": [
       "                                  0\n",
       "Temperature                    14.0\n",
       "Humidity                         73\n",
       "Wind Speed                      9.5\n",
       "Precipitation (%)              82.0\n",
       "Cloud Cover           partly cloudy\n",
       "Atmospheric Pressure        1010.82\n",
       "UV Index                          2\n",
       "Season                       Winter\n",
       "Visibility (km)                 3.5\n",
       "Location                     inland\n",
       "Weather Type                  Rainy"
      ]
     },
     "execution_count": 76,
     "metadata": {},
     "output_type": "execute_result"
    }
   ],
   "source": [
    "data.head(1).T"
   ]
  },
  {
   "cell_type": "code",
   "execution_count": 77,
   "metadata": {
    "id": "LZjyPZOaQeoc"
   },
   "outputs": [],
   "source": [
    "from sklearn.preprocessing import LabelBinarizer\n",
    "lb=LabelBinarizer()\n",
    "for col in ['Season','Weather Type','Cloud Cover','Location']:\n",
    "    data[col] =lb.fit_transform(data[col])\n",
    "\n",
    "\n"
   ]
  },
  {
   "cell_type": "code",
   "execution_count": 78,
   "metadata": {
    "id": "SLITzQclRFgZ"
   },
   "outputs": [],
   "source": [
    "import warnings\n",
    "warnings.filterwarnings('ignore',module='sklearn')\n",
    "from sklearn.preprocessing import MinMaxScaler\n",
    "msc=MinMaxScaler()\n",
    "data=pd.DataFrame(msc.fit_transform(data),columns=data.columns)"
   ]
  },
  {
   "cell_type": "code",
   "execution_count": 79,
   "metadata": {
    "id": "OuiXMt5RRusu"
   },
   "outputs": [],
   "source": [
    "x_cols =[x for x in data.columns if x!= 'Weather Type']\n",
    "X_data = data[x_cols]\n",
    "y_data = data['Weather Type']\n"
   ]
  },
  {
   "cell_type": "code",
   "execution_count": 80,
   "metadata": {
    "colab": {
     "base_uri": "https://localhost:8080/",
     "height": 423
    },
    "id": "XBXbA0hsUpdC",
    "outputId": "c1e739bf-008d-4753-a863-4f87a8345369"
   },
   "outputs": [
    {
     "data": {
      "text/html": [
       "<div>\n",
       "<style scoped>\n",
       "    .dataframe tbody tr th:only-of-type {\n",
       "        vertical-align: middle;\n",
       "    }\n",
       "\n",
       "    .dataframe tbody tr th {\n",
       "        vertical-align: top;\n",
       "    }\n",
       "\n",
       "    .dataframe thead th {\n",
       "        text-align: right;\n",
       "    }\n",
       "</style>\n",
       "<table border=\"1\" class=\"dataframe\">\n",
       "  <thead>\n",
       "    <tr style=\"text-align: right;\">\n",
       "      <th></th>\n",
       "      <th>Temperature</th>\n",
       "      <th>Humidity</th>\n",
       "      <th>Wind Speed</th>\n",
       "      <th>Precipitation (%)</th>\n",
       "      <th>Cloud Cover</th>\n",
       "      <th>Atmospheric Pressure</th>\n",
       "      <th>UV Index</th>\n",
       "      <th>Season</th>\n",
       "      <th>Visibility (km)</th>\n",
       "      <th>Location</th>\n",
       "    </tr>\n",
       "  </thead>\n",
       "  <tbody>\n",
       "    <tr>\n",
       "      <th>0</th>\n",
       "      <td>0.291045</td>\n",
       "      <td>0.595506</td>\n",
       "      <td>0.195876</td>\n",
       "      <td>0.752294</td>\n",
       "      <td>0.0</td>\n",
       "      <td>0.527951</td>\n",
       "      <td>0.142857</td>\n",
       "      <td>1.0</td>\n",
       "      <td>0.175</td>\n",
       "      <td>0.0</td>\n",
       "    </tr>\n",
       "    <tr>\n",
       "      <th>1</th>\n",
       "      <td>0.477612</td>\n",
       "      <td>0.853933</td>\n",
       "      <td>0.175258</td>\n",
       "      <td>0.651376</td>\n",
       "      <td>0.0</td>\n",
       "      <td>0.529480</td>\n",
       "      <td>0.500000</td>\n",
       "      <td>1.0</td>\n",
       "      <td>0.500</td>\n",
       "      <td>0.0</td>\n",
       "    </tr>\n",
       "    <tr>\n",
       "      <th>2</th>\n",
       "      <td>0.410448</td>\n",
       "      <td>0.494382</td>\n",
       "      <td>0.144330</td>\n",
       "      <td>0.146789</td>\n",
       "      <td>0.0</td>\n",
       "      <td>0.547746</td>\n",
       "      <td>0.357143</td>\n",
       "      <td>0.0</td>\n",
       "      <td>0.275</td>\n",
       "      <td>0.0</td>\n",
       "    </tr>\n",
       "    <tr>\n",
       "      <th>3</th>\n",
       "      <td>0.470149</td>\n",
       "      <td>0.707865</td>\n",
       "      <td>0.030928</td>\n",
       "      <td>0.752294</td>\n",
       "      <td>0.0</td>\n",
       "      <td>0.566614</td>\n",
       "      <td>0.500000</td>\n",
       "      <td>0.0</td>\n",
       "      <td>0.050</td>\n",
       "      <td>1.0</td>\n",
       "    </tr>\n",
       "    <tr>\n",
       "      <th>4</th>\n",
       "      <td>0.388060</td>\n",
       "      <td>0.606742</td>\n",
       "      <td>0.350515</td>\n",
       "      <td>0.605505</td>\n",
       "      <td>0.0</td>\n",
       "      <td>0.477461</td>\n",
       "      <td>0.071429</td>\n",
       "      <td>0.0</td>\n",
       "      <td>0.125</td>\n",
       "      <td>0.0</td>\n",
       "    </tr>\n",
       "    <tr>\n",
       "      <th>...</th>\n",
       "      <td>...</td>\n",
       "      <td>...</td>\n",
       "      <td>...</td>\n",
       "      <td>...</td>\n",
       "      <td>...</td>\n",
       "      <td>...</td>\n",
       "      <td>...</td>\n",
       "      <td>...</td>\n",
       "      <td>...</td>\n",
       "      <td>...</td>\n",
       "    </tr>\n",
       "    <tr>\n",
       "      <th>13195</th>\n",
       "      <td>0.261194</td>\n",
       "      <td>0.606742</td>\n",
       "      <td>0.298969</td>\n",
       "      <td>0.651376</td>\n",
       "      <td>0.0</td>\n",
       "      <td>0.508732</td>\n",
       "      <td>0.071429</td>\n",
       "      <td>0.0</td>\n",
       "      <td>0.050</td>\n",
       "      <td>0.0</td>\n",
       "    </tr>\n",
       "    <tr>\n",
       "      <th>13196</th>\n",
       "      <td>0.179104</td>\n",
       "      <td>0.629213</td>\n",
       "      <td>0.072165</td>\n",
       "      <td>0.211009</td>\n",
       "      <td>0.0</td>\n",
       "      <td>0.669298</td>\n",
       "      <td>0.071429</td>\n",
       "      <td>0.0</td>\n",
       "      <td>0.300</td>\n",
       "      <td>1.0</td>\n",
       "    </tr>\n",
       "    <tr>\n",
       "      <th>13197</th>\n",
       "      <td>0.410448</td>\n",
       "      <td>0.640449</td>\n",
       "      <td>0.113402</td>\n",
       "      <td>0.256881</td>\n",
       "      <td>1.0</td>\n",
       "      <td>0.532637</td>\n",
       "      <td>0.214286</td>\n",
       "      <td>0.0</td>\n",
       "      <td>0.450</td>\n",
       "      <td>1.0</td>\n",
       "    </tr>\n",
       "    <tr>\n",
       "      <th>13198</th>\n",
       "      <td>0.208955</td>\n",
       "      <td>0.629213</td>\n",
       "      <td>0.206186</td>\n",
       "      <td>0.862385</td>\n",
       "      <td>0.0</td>\n",
       "      <td>0.461425</td>\n",
       "      <td>0.000000</td>\n",
       "      <td>1.0</td>\n",
       "      <td>0.100</td>\n",
       "      <td>0.0</td>\n",
       "    </tr>\n",
       "    <tr>\n",
       "      <th>13199</th>\n",
       "      <td>0.149254</td>\n",
       "      <td>0.202247</td>\n",
       "      <td>0.000000</td>\n",
       "      <td>0.844037</td>\n",
       "      <td>1.0</td>\n",
       "      <td>0.539352</td>\n",
       "      <td>0.357143</td>\n",
       "      <td>0.0</td>\n",
       "      <td>0.500</td>\n",
       "      <td>0.0</td>\n",
       "    </tr>\n",
       "  </tbody>\n",
       "</table>\n",
       "<p>13200 rows × 10 columns</p>\n",
       "</div>"
      ],
      "text/plain": [
       "       Temperature  Humidity  Wind Speed  Precipitation (%)  Cloud Cover  \\\n",
       "0         0.291045  0.595506    0.195876           0.752294          0.0   \n",
       "1         0.477612  0.853933    0.175258           0.651376          0.0   \n",
       "2         0.410448  0.494382    0.144330           0.146789          0.0   \n",
       "3         0.470149  0.707865    0.030928           0.752294          0.0   \n",
       "4         0.388060  0.606742    0.350515           0.605505          0.0   \n",
       "...            ...       ...         ...                ...          ...   \n",
       "13195     0.261194  0.606742    0.298969           0.651376          0.0   \n",
       "13196     0.179104  0.629213    0.072165           0.211009          0.0   \n",
       "13197     0.410448  0.640449    0.113402           0.256881          1.0   \n",
       "13198     0.208955  0.629213    0.206186           0.862385          0.0   \n",
       "13199     0.149254  0.202247    0.000000           0.844037          1.0   \n",
       "\n",
       "       Atmospheric Pressure  UV Index  Season  Visibility (km)  Location  \n",
       "0                  0.527951  0.142857     1.0            0.175       0.0  \n",
       "1                  0.529480  0.500000     1.0            0.500       0.0  \n",
       "2                  0.547746  0.357143     0.0            0.275       0.0  \n",
       "3                  0.566614  0.500000     0.0            0.050       1.0  \n",
       "4                  0.477461  0.071429     0.0            0.125       0.0  \n",
       "...                     ...       ...     ...              ...       ...  \n",
       "13195              0.508732  0.071429     0.0            0.050       0.0  \n",
       "13196              0.669298  0.071429     0.0            0.300       1.0  \n",
       "13197              0.532637  0.214286     0.0            0.450       1.0  \n",
       "13198              0.461425  0.000000     1.0            0.100       0.0  \n",
       "13199              0.539352  0.357143     0.0            0.500       0.0  \n",
       "\n",
       "[13200 rows x 10 columns]"
      ]
     },
     "execution_count": 80,
     "metadata": {},
     "output_type": "execute_result"
    }
   ],
   "source": [
    "X_data"
   ]
  },
  {
   "cell_type": "code",
   "execution_count": 81,
   "metadata": {
    "colab": {
     "base_uri": "https://localhost:8080/"
    },
    "id": "c4pgf6FYUgFL",
    "outputId": "a212a9ab-f139-49cc-cf86-f2ebc65aabf7"
   },
   "outputs": [
    {
     "data": {
      "text/plain": [
       "0        0.0\n",
       "1        0.0\n",
       "2        1.0\n",
       "3        0.0\n",
       "4        1.0\n",
       "        ... \n",
       "13195    1.0\n",
       "13196    0.0\n",
       "13197    0.0\n",
       "13198    0.0\n",
       "13199    1.0\n",
       "Name: Weather Type, Length: 13200, dtype: float64"
      ]
     },
     "execution_count": 81,
     "metadata": {},
     "output_type": "execute_result"
    }
   ],
   "source": [
    "y_data"
   ]
  },
  {
   "cell_type": "code",
   "execution_count": 82,
   "metadata": {
    "id": "PPW1Ud3hUwhQ"
   },
   "outputs": [],
   "source": [
    "from sklearn.neighbors import KNeighborsClassifier\n",
    "knn=KNeighborsClassifier(n_neighbors=3)\n",
    "knn.fit(X_data,y_data)\n",
    "y_pred = knn.predict(X_data.values)"
   ]
  },
  {
   "cell_type": "code",
   "execution_count": 83,
   "metadata": {
    "id": "nIEaCxYQXHoW"
   },
   "outputs": [],
   "source": [
    "def accuracy(real, predict):\n",
    "    return sum(y_data == y_pred) / float(real.shape[0])"
   ]
  },
  {
   "cell_type": "code",
   "execution_count": 84,
   "metadata": {
    "colab": {
     "base_uri": "https://localhost:8080/"
    },
    "id": "l6AEqmAwXNBC",
    "outputId": "cf7d1ace-7604-4445-b03d-375570d719f2"
   },
   "outputs": [
    {
     "name": "stdout",
     "output_type": "stream",
     "text": [
      "1.0\n"
     ]
    }
   ],
   "source": [
    "print(accuracy(y_data, y_pred))"
   ]
  },
  {
   "cell_type": "code",
   "execution_count": 85,
   "metadata": {
    "colab": {
     "base_uri": "https://localhost:8080/"
    },
    "id": "cXlLqmwmXQXK",
    "outputId": "3e715c21-8e60-417b-c7e3-7d87791330c9"
   },
   "outputs": [
    {
     "name": "stdout",
     "output_type": "stream",
     "text": [
      "1.0\n"
     ]
    }
   ],
   "source": [
    "knn = KNeighborsClassifier(n_neighbors=5, weights='distance')\n",
    "\n",
    "knn = knn.fit(X_data, y_data)\n",
    "\n",
    "y_pred = knn.predict(X_data.values)\n",
    "\n",
    "print(accuracy(y_data, y_pred))"
   ]
  },
  {
   "cell_type": "code",
   "execution_count": 86,
   "metadata": {
    "colab": {
     "base_uri": "https://localhost:8080/"
    },
    "id": "fVva2dQ2XfCQ",
    "outputId": "463c94aa-311f-46ca-cc51-a33227561932"
   },
   "outputs": [
    {
     "name": "stdout",
     "output_type": "stream",
     "text": [
      "1.0\n"
     ]
    }
   ],
   "source": [
    "knn = KNeighborsClassifier(n_neighbors=5, p=1)\n",
    "\n",
    "knn = knn.fit(X_data, y_data)\n",
    "\n",
    "y_pred = knn.predict(X_data.values)\n",
    "\n",
    "print(accuracy(y_data, y_pred))"
   ]
  },
  {
   "cell_type": "code",
   "execution_count": 87,
   "metadata": {
    "id": "hvNdEdtmXkiD"
   },
   "outputs": [],
   "source": [
    "score_list = list()\n",
    "for k in range(1, 21):\n",
    "    knn = KNeighborsClassifier(n_neighbors=k)\n",
    "    knn = knn.fit(X_data, y_data)\n",
    "    y_pred = knn.predict(X_data.values)\n",
    "    score = accuracy(y_data, y_pred)\n",
    "    score_list.append((k, score))\n",
    "score_df = pd.DataFrame(score_list, columns=['k', 'accuracy'])"
   ]
  },
  {
   "cell_type": "code",
   "execution_count": 88,
   "metadata": {
    "id": "6VZYZaKPX1iK"
   },
   "outputs": [],
   "source": [
    "# Import libraries to make the plot\n",
    "\n",
    "import matplotlib.pyplot as plt\n",
    "import seaborn as sns\n",
    "\n",
    "%matplotlib inline"
   ]
  },
  {
   "cell_type": "code",
   "execution_count": 89,
   "metadata": {
    "colab": {
     "base_uri": "https://localhost:8080/",
     "height": 476
    },
    "id": "ARSLNmeFYFAM",
    "outputId": "5aab4a79-7bdb-40f3-835b-fda6dd7850a7"
   },
   "outputs": [
    {
     "data": {
      "image/png": "[encoded data removed]",
      "text/plain": [
       "<Figure size 640x480 with 1 Axes>"
      ]
     },
     "metadata": {},
     "output_type": "display_data"
    }
   ],
   "source": [
    "sns.set_context('talk')\n",
    "sns.set_style('ticks')\n",
    "sns.set_palette('dark')\n",
    "\n",
    "ax = score_df.set_index('k').plot()\n",
    "\n",
    "ax.set(xlabel='k', ylabel='accuracy')\n",
    "ax.set_xticks(range(1, 21));"
   ]
  },
  {
   "cell_type": "code",
   "execution_count": null,
   "metadata": {
    "id": "rp758O-qYXSH"
   },
   "outputs": [],
   "source": []
  }
 ],
 "metadata": {
  "colab": {
   "provenance": []
  },
  "kernelspec": {
   "display_name": "Python 3 (ipykernel)",
   "language": "python",
   "name": "python3"
  },
  "language_info": {
   "codemirror_mode": {
    "name": "ipython",
    "version": 3
   },
   "file_extension": ".py",
   "mimetype": "text/x-python",
   "name": "python",
   "nbconvert_exporter": "python",
   "pygments_lexer": "ipython3",
   "version": "3.9.16"
  }
 },
 "nbformat": 4,
 "nbformat_minor": 1
}
